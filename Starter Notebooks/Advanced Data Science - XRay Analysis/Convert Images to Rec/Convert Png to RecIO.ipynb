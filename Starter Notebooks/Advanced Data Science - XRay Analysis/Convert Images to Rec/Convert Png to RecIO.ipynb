{
 "cells": [
  {
   "cell_type": "code",
   "execution_count": 3,
   "metadata": {},
   "outputs": [
    {
     "name": "stdout",
     "output_type": "stream",
     "text": [
      "/root/Convert Images to Rec\n"
     ]
    }
   ],
   "source": [
    "!pwd"
   ]
  },
  {
   "cell_type": "code",
   "execution_count": 1,
   "metadata": {},
   "outputs": [],
   "source": [
    "# !aws s3 sync s3://nih-xray-data/curated-images images/"
   ]
  },
  {
   "cell_type": "code",
   "execution_count": 5,
   "metadata": {
    "collapsed": true,
    "jupyter": {
     "outputs_hidden": true
    }
   },
   "outputs": [
    {
     "name": "stdout",
     "output_type": "stream",
     "text": [
      "Collecting opencv-python-headless\n",
      "  Downloading opencv_python_headless-4.4.0.44-cp37-cp37m-manylinux2014_x86_64.whl (36.7 MB)\n",
      "\u001b[K     |████████████████████████████████| 36.7 MB 8.1 MB/s eta 0:00:01\n",
      "\u001b[?25hRequirement already satisfied: numpy>=1.14.5 in /opt/conda/lib/python3.7/site-packages (from opencv-python-headless) (1.18.1)\n",
      "Installing collected packages: opencv-python-headless\n",
      "Successfully installed opencv-python-headless-4.4.0.44\n"
     ]
    }
   ],
   "source": [
    "# !pip install mxnet\n",
    "!pip install opencv-python-headless"
   ]
  },
  {
   "cell_type": "code",
   "execution_count": 5,
   "metadata": {},
   "outputs": [
    {
     "name": "stdout",
     "output_type": "stream",
     "text": [
      "made it through arg parse\n",
      "looking inside of prefix: train\n",
      "tripped list creation\n"
     ]
    }
   ],
   "source": [
    "!python tools/im2rec.py --root \"/root/Convert Images to Rec/images\" --prefix \"train\" --exts '.png' --chunks 1  --create_list 'Yes'"
   ]
  },
  {
   "cell_type": "code",
   "execution_count": 7,
   "metadata": {},
   "outputs": [
    {
     "name": "stdout",
     "output_type": "stream",
     "text": [
      "made it through arg parse\n",
      "looking inside of prefix: /root/Convert Images to Rec/one_chunk\n",
      "Creating .rec file from /root/Convert Images to Rec/one_chunk/train.lst in /root/Convert Images to Rec/one_chunk\n",
      "multiprocessing not available, fall back to single threaded encoding\n",
      "time: 0.04486227035522461  count: 0\n",
      "time: 39.140044927597046  count: 1000\n"
     ]
    }
   ],
   "source": [
    "!python tools/im2rec.py --root \"/root/Convert Images to Rec/images\" --prefix \"/root/Convert Images to Rec/one_chunk\" --exts '.png' --chunks 1 --create_list 'no'"
   ]
  },
  {
   "cell_type": "code",
   "execution_count": 8,
   "metadata": {},
   "outputs": [
    {
     "name": "stdout",
     "output_type": "stream",
     "text": [
      "upload: one_chunk/train.lst to s3://nih-xray-data/rec-files/train.lst\n",
      "upload: one_chunk/train.idx to s3://nih-xray-data/rec-files/train.idx\n",
      "upload: one_chunk/train.rec to s3://nih-xray-data/rec-files/train.rec\n"
     ]
    }
   ],
   "source": [
    "!aws s3 sync one_chunk s3://nih-xray-data/rec-files/"
   ]
  },
  {
   "cell_type": "code",
   "execution_count": null,
   "metadata": {},
   "outputs": [],
   "source": []
  }
 ],
 "metadata": {
  "instance_type": "ml.g4dn.xlarge",
  "kernelspec": {
   "display_name": "Python 3 (Data Science)",
   "language": "python",
   "name": "python3__SAGEMAKER_INTERNAL__arn:aws:sagemaker:us-east-1:081325390199:image/datascience-1.0"
  },
  "language_info": {
   "codemirror_mode": {
    "name": "ipython",
    "version": 3
   },
   "file_extension": ".py",
   "mimetype": "text/x-python",
   "name": "python",
   "nbconvert_exporter": "python",
   "pygments_lexer": "ipython3",
   "version": "3.7.6"
  }
 },
 "nbformat": 4,
 "nbformat_minor": 4
}
